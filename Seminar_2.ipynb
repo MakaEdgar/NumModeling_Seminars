{
 "cells": [
  {
   "cell_type": "markdown",
   "metadata": {},
   "source": [
    "# Seminar 2"
   ]
  },
  {
   "cell_type": "markdown",
   "metadata": {},
   "source": [
    "## 1. Numerical integration errors\n",
    "We have a function\n",
    "$$f(x) = \\frac{1}{1+25 x^2}$$\n",
    "for $x \\in [-1, 1]$.\n",
    "\n",
    "The integral of $f(x)$ is $(2 \\arctan(5))/5$. Compute the integral of $f(x)$ over the interval $[-1,1]$ for different $h$ and compare with the exact answer.\n",
    "\n",
    "\n",
    "Calculate the interpolation error as the number of points increases (or the grid resolution $h$ decreases). \n",
    "How does the interpolation error depend on the grid resolution (what is the order of convergence)? Plot this dependence on a logarithmic scale and comment on the results."
   ]
  },
  {
   "cell_type": "code",
   "execution_count": null,
   "metadata": {},
   "outputs": [],
   "source": [
    "import numpy as np\n",
    "import numpy.linalg as lin\n",
    "import scipy\n",
    "import matplotlib.pyplot as plt\n",
    "plt.rcParams.update({'font.size': 14})\n"
   ]
  },
  {
   "cell_type": "code",
   "execution_count": null,
   "metadata": {},
   "outputs": [],
   "source": [
    "def f_true(x):\n",
    "    return 1/(1 + 25*x**2)"
   ]
  },
  {
   "cell_type": "code",
   "execution_count": null,
   "metadata": {},
   "outputs": [],
   "source": [
    "a, b = (-1, 1)\n",
    "true_val = 2 * np.arctan(5) / 5\n",
    "\n",
    "true_val"
   ]
  },
  {
   "cell_type": "markdown",
   "metadata": {},
   "source": [
    "### Integration methods"
   ]
  },
  {
   "cell_type": "markdown",
   "metadata": {},
   "source": [
    "Left-point rectangles        |  Middle-point rectangles        |  Right-point rectangles\n",
    ":---------------------------:|:-------------------------------:|:-------------------------:\n",
    "![](fig/int_rect_left.png)   |  ![](fig/int_rect_middle.png)   |  ![](fig/int_rect_right.png)\n",
    "\n",
    " ![](fig/int_trap.png)"
   ]
  },
  {
   "cell_type": "markdown",
   "metadata": {},
   "source": [
    "#### Q: Which method(s) is(are) more accurate?  Why?"
   ]
  },
  {
   "cell_type": "code",
   "execution_count": null,
   "metadata": {},
   "outputs": [],
   "source": [
    "# f - func to integrate\n",
    "# n - number of segments on [a, b]\n",
    "\n",
    "def int_rect_left(f, n):\n",
    "    h = (b - a) / n\n",
    "    y_grid = np.array([f(a + h*i) for i in range(0, n)])\n",
    "\n",
    "    int_value = np.sum(y_grid * h)    \n",
    "    return int_value\n",
    "\n",
    "def int_rect_right(f, n):\n",
    "    h = (b - a) / n\n",
    "    y_grid = np.array([f(a + h*(i+1)) for i in range(0, n)])\n",
    "\n",
    "    int_value = np.sum(y_grid * h)    \n",
    "    return int_value\n",
    "\n",
    "\n",
    "def int_rect_middle(f, n):\n",
    "    h = (b - a) / n\n",
    "    y_grid = np.array([f(a + h*(i+0.5)) for i in range(0, n)])\n",
    "\n",
    "    int_value = np.sum(y_grid * h)    \n",
    "    return int_value\n",
    "\n",
    "\n",
    "def int_trap(f, n):\n",
    "    h = (b - a) / n\n",
    "    y_grid = np.array([\n",
    "        (f(a + h*i) + f(a + h*(i+1))) / 2\n",
    "                      for i in range(0, n)])\n",
    "\n",
    "    int_value = np.sum(y_grid * h)    \n",
    "    return int_value"
   ]
  },
  {
   "cell_type": "code",
   "execution_count": null,
   "metadata": {},
   "outputs": [],
   "source": [
    "int_methods = [\n",
    "    int_rect_left,    \n",
    "    int_rect_right,\n",
    "    int_rect_middle,\n",
    "    int_trap,\n",
    "]"
   ]
  },
  {
   "cell_type": "code",
   "execution_count": null,
   "metadata": {},
   "outputs": [],
   "source": [
    "# Try ranges: (1, 10, 1), (1, 30, 1), (10, 30, 1)\n",
    "\n",
    "n_grid = range(1, 10, 1)\n",
    "h_grid = [(b-a)/n for n in n_grid]\n",
    "\n",
    "\n",
    "fig, axes = plt.subplots(nrows=2, ncols=1, figsize=(12, 12))\n",
    "axes[0].set_title(\"Value\")\n",
    "axes[1].set_title(\"Error\")\n",
    "\n",
    "\n",
    "for int_method in int_methods:\n",
    "    int_vals = np.array([int_method(f_true, n) for n in n_grid])\n",
    "    axes[0].plot(n_grid, int_vals, label=int_method.__name__, marker=\"o\")\n",
    "    \n",
    "    err_vals = np.abs(int_vals - true_val)\n",
    "    axes[1].plot(h_grid, err_vals, label=int_method.__name__, marker=\"o\")\n",
    "\n",
    "    poly_coeffs = np.polyfit(np.log(h_grid), np.log(err_vals), 1)\n",
    "    print(f\"{int_method.__name__:15} E = {np.exp(poly_coeffs[1]):.5f} * h^{poly_coeffs[0]:.5f}\")\n",
    "\n",
    "\n",
    "axes[0].axhline(true_val, label=\"true_value\", color=\"black\")\n",
    "axes[0].set_xlabel(\"$n$\")\n",
    "\n",
    "axes[1].set_yscale(\"log\")\n",
    "axes[1].set_xscale(\"log\")\n",
    "axes[1].set_xlabel(\"$n$\")\n",
    "\n",
    "for axe in axes:\n",
    "    axe.legend(bbox_to_anchor=(1.05, 1), loc='upper left', title=\"Integration method\")\n",
    "\n",
    "fig.tight_layout() \n",
    "plt.show()"
   ]
  },
  {
   "cell_type": "markdown",
   "metadata": {},
   "source": [
    "#### Q: Why results of integration are the same for different methods?"
   ]
  },
  {
   "cell_type": "code",
   "execution_count": null,
   "metadata": {},
   "outputs": [],
   "source": []
  },
  {
   "cell_type": "code",
   "execution_count": null,
   "metadata": {},
   "outputs": [],
   "source": []
  },
  {
   "cell_type": "code",
   "execution_count": null,
   "metadata": {},
   "outputs": [],
   "source": []
  },
  {
   "cell_type": "code",
   "execution_count": null,
   "metadata": {},
   "outputs": [],
   "source": []
  },
  {
   "cell_type": "code",
   "execution_count": null,
   "metadata": {},
   "outputs": [],
   "source": []
  },
  {
   "cell_type": "code",
   "execution_count": null,
   "metadata": {},
   "outputs": [],
   "source": [
    "# non-symmetric function\n",
    "a, b = (0, 1)\n",
    "true_val = 2 * np.arctan(5) / 5 / 2\n",
    "\n",
    "true_val"
   ]
  },
  {
   "cell_type": "code",
   "execution_count": null,
   "metadata": {},
   "outputs": [],
   "source": [
    "# Try ranges: (1, 10, 1), (1, 30, 1), (10, 30, 1), (30, 1000, 30)\n",
    "# add int_rect_middle back\n",
    "\n",
    "n_grid = range(1, 10, 1)\n",
    "h_grid = [(b-a)/n for n in n_grid]\n",
    "\n",
    "\n",
    "fig, axes = plt.subplots(nrows=2, ncols=1, figsize=(12, 12))\n",
    "axes[0].set_title(\"Value\")\n",
    "axes[1].set_title(\"Error\")\n",
    "\n",
    "\n",
    "for int_method in int_methods:\n",
    "    int_vals = np.array([int_method(f_true, n) for n in n_grid])\n",
    "    axes[0].plot(n_grid, int_vals, label=int_method.__name__)\n",
    "    axes[0].scatter(n_grid, int_vals)\n",
    "    \n",
    "    err_vals = np.abs(int_vals - true_val)\n",
    "    axes[1].plot(h_grid, err_vals, label=int_method.__name__)\n",
    "    axes[1].scatter(h_grid, err_vals)  \n",
    "\n",
    "    poly_coeffs = np.polyfit(np.log(h_grid), np.log(err_vals), 1)\n",
    "    print(f\"{int_method.__name__:15} E = {np.exp(poly_coeffs[1]):.5f} * h^{poly_coeffs[0]:.5f}\")\n",
    "\n",
    "\n",
    "axes[0].axhline(true_val, label=\"true_value\", color=\"black\")\n",
    "axes[0].set_xlabel(\"$n$\")\n",
    "\n",
    "axes[1].set_yscale(\"log\")\n",
    "axes[1].set_xscale(\"log\")\n",
    "axes[1].set_xlabel(\"$h$\")\n",
    "\n",
    "for axe in axes:\n",
    "    axe.legend(bbox_to_anchor=(1.05, 1), loc='upper left', title=\"Integration method\")\n",
    "\n",
    "fig.tight_layout() \n",
    "plt.show()"
   ]
  },
  {
   "cell_type": "code",
   "execution_count": null,
   "metadata": {},
   "outputs": [],
   "source": []
  },
  {
   "cell_type": "code",
   "execution_count": null,
   "metadata": {},
   "outputs": [],
   "source": []
  },
  {
   "cell_type": "code",
   "execution_count": null,
   "metadata": {},
   "outputs": [],
   "source": []
  },
  {
   "cell_type": "code",
   "execution_count": null,
   "metadata": {},
   "outputs": [],
   "source": []
  },
  {
   "cell_type": "markdown",
   "metadata": {},
   "source": [
    "## 2. Errors of polynomial interpolation"
   ]
  },
  {
   "cell_type": "code",
   "execution_count": null,
   "metadata": {},
   "outputs": [],
   "source": [
    "import numpy as np\n",
    "import numpy.linalg as lin\n",
    "import scipy\n",
    "import matplotlib.pyplot as plt\n",
    "plt.rcParams.update({'font.size': 14})\n"
   ]
  },
  {
   "cell_type": "code",
   "execution_count": null,
   "metadata": {},
   "outputs": [],
   "source": [
    "def f_true(x):\n",
    "    return 1/(1 + 25*x**2)"
   ]
  },
  {
   "cell_type": "code",
   "execution_count": null,
   "metadata": {},
   "outputs": [],
   "source": [
    "a, b = (-1, 1)\n",
    "\n",
    "def uniform_grid(n):\n",
    "    return np.linspace(a, b, n)\n",
    "\n",
    "\n",
    "def chebyshev_grid(n):\n",
    "    k = np.arange(1, n+1)\n",
    "    return np.cos((2*k-1)/(2*n) * np.pi)\n",
    "\n",
    "\n",
    "def rmse(x, y):\n",
    "    return np.sqrt(np.sum(np.mean((x - y)**2)))\n",
    "\n",
    "\n",
    "x_dense_grid = uniform_grid(569)"
   ]
  },
  {
   "cell_type": "markdown",
   "metadata": {},
   "source": [
    "## Polinomial interpolation"
   ]
  },
  {
   "cell_type": "code",
   "execution_count": null,
   "metadata": {},
   "outputs": [],
   "source": [
    "def coeff_mat(x_grid, n):\n",
    "    X = np.array([[x**(n-i) for i in range(0, n+1)] for x in x_grid])\n",
    "    return X\n",
    "\n",
    "\n",
    "# pseudoinverse\n",
    "def psinv(A):\n",
    "    if (A.shape[0] == A.shape[1]):\n",
    "        return lin.inv(A)\n",
    "    return lin.inv(A.T @ A) @ A.T\n",
    "\n",
    "\n",
    "def polyfit(x_grid, y_grid, n):\n",
    "    assert(x_grid.shape == y_grid.shape)\n",
    "    \n",
    "    X = coeff_mat(x_grid, n)\n",
    "    \n",
    "    # think about stability\n",
    "    X_psinv = psinv(X)\n",
    "    coeffs = X_psinv @ y_grid\n",
    "    \n",
    "    return coeffs\n",
    "    "
   ]
  },
  {
   "cell_type": "markdown",
   "metadata": {},
   "source": [
    "### Uniform grid"
   ]
  },
  {
   "cell_type": "code",
   "execution_count": null,
   "metadata": {},
   "outputs": [],
   "source": [
    "n_grid = range(2, 10, 2)\n",
    "\n",
    "# Ground truth\n",
    "plt.plot(x_dense_grid, f_true(x_dense_grid), label=\"true\", linewidth=4)\n",
    "\n",
    "rmse_fit_errors = []\n",
    "rmse_predict_errors = []\n",
    "\n",
    "# Interpolations\n",
    "for n in n_grid:\n",
    "    x_grid = uniform_grid(n+1)\n",
    "    y_grid = f_true(x_grid)\n",
    "\n",
    "    poly_coeffs = polyfit(x_grid, y_grid, n)\n",
    "    poly = np.poly1d(poly_coeffs)\n",
    "    \n",
    "    y_fit = poly(x_grid)\n",
    "    rmse_fit_errors.append(rmse(y_fit, y_grid))\n",
    "\n",
    "    y_predict = poly(x_dense_grid)\n",
    "    rmse_predict_errors.append(rmse(y_predict, f_true(x_dense_grid)))\n",
    "\n",
    "    plt.plot(x_dense_grid, poly(x_dense_grid), label=f\"$n$={n}\")\n",
    "\n",
    "plt.xlabel(\"$x$\")\n",
    "plt.ylabel(\"$y$\")\n",
    "plt.legend(bbox_to_anchor=(1.05, 1), loc='upper left')\n",
    "plt.title(\"Polynomial interpolation\")\n",
    "plt.show()\n",
    "\n",
    "plt.plot(n_grid, rmse_fit_errors, label=\"fit error\", marker='o')\n",
    "plt.plot(n_grid, rmse_predict_errors, label=\"predict error\", marker='o')\n",
    "\n",
    "plt.xlabel(\"$n$\")\n",
    "plt.ylabel(\"RMSE\")\n",
    "plt.yscale(\"log\")\n",
    "plt.legend(bbox_to_anchor=(1.05, 1), loc='upper left')\n",
    "plt.title(\"Error of interpolation\")\n",
    "plt.show()\n"
   ]
  },
  {
   "cell_type": "markdown",
   "metadata": {},
   "source": [
    "### Chebyshev grid"
   ]
  },
  {
   "cell_type": "code",
   "execution_count": null,
   "metadata": {},
   "outputs": [],
   "source": [
    "# Try range(2, 80, 10)\n",
    "n_grid = range(2, 10, 2)\n",
    "\n",
    "# Ground truth\n",
    "plt.plot(x_dense_grid, f_true(x_dense_grid), label=\"true\", linewidth=4)\n",
    "\n",
    "rmse_fit_errors = []\n",
    "rmse_predict_errors = []\n",
    "\n",
    "# Interpolations\n",
    "for n in n_grid:\n",
    "    x_grid = chebyshev_grid(n+1)\n",
    "    y_grid = f_true(x_grid)\n",
    "\n",
    "    poly_coeffs = polyfit(x_grid, y_grid, n)\n",
    "    poly = np.poly1d(poly_coeffs)\n",
    "    \n",
    "    y_fit = poly(x_grid)\n",
    "    rmse_fit_errors.append(rmse(y_fit, y_grid))\n",
    "\n",
    "    y_predict = poly(x_dense_grid)\n",
    "    rmse_predict_errors.append(rmse(y_predict, f_true(x_dense_grid)))\n",
    "\n",
    "    plt.plot(x_dense_grid, poly(x_dense_grid), label=f\"$n$={n}\")\n",
    "\n",
    "plt.xlabel(\"$x$\")\n",
    "plt.ylabel(\"$y$\")\n",
    "plt.legend(bbox_to_anchor=(1.05, 1), loc='upper left')\n",
    "plt.title(\"Polynomial interpolation\")\n",
    "plt.show()\n",
    "\n",
    "plt.plot(n_grid, rmse_fit_errors, label=\"fit error\", marker='o')\n",
    "plt.plot(n_grid, rmse_predict_errors, label=\"predict error\", marker='o')\n",
    "\n",
    "plt.xlabel(\"$n$\")\n",
    "plt.ylabel(\"RMSE\")\n",
    "plt.yscale(\"log\")\n",
    "plt.legend(bbox_to_anchor=(1.05, 1), loc='upper left')\n",
    "plt.title(\"Error of interpolation\")\n",
    "plt.show()\n"
   ]
  },
  {
   "cell_type": "markdown",
   "metadata": {},
   "source": [
    "### Condition number convergence"
   ]
  },
  {
   "cell_type": "code",
   "execution_count": null,
   "metadata": {},
   "outputs": [],
   "source": [
    "n_grid = range(2, 80, 2)\n",
    "\n",
    "grid_gens = [uniform_grid, chebyshev_grid]\n",
    "\n",
    "for grid_gen in grid_gens:   \n",
    "    X_grid = [coeff_mat(grid_gen(n+1), n) for n in n_grid]\n",
    "    cond_nums = [lin.cond(psinv(X)) for X in X_grid]\n",
    "    \n",
    "    plt.plot(n_grid, cond_nums, label=grid_gen.__name__, marker=\"o\")\n",
    "\n",
    "plt.xlabel(\"$n$\")\n",
    "plt.ylabel(\"cond(A)\")\n",
    "plt.yscale(\"log\")\n",
    "\n",
    "plt.legend(bbox_to_anchor=(1.05, 1), loc='upper left')\n",
    "plt.title(\"Condition number convergence\")\n",
    "plt.show()"
   ]
  },
  {
   "cell_type": "code",
   "execution_count": null,
   "metadata": {},
   "outputs": [],
   "source": []
  },
  {
   "cell_type": "code",
   "execution_count": null,
   "metadata": {},
   "outputs": [],
   "source": []
  },
  {
   "cell_type": "markdown",
   "metadata": {},
   "source": [
    "### Intergration using polynomials"
   ]
  },
  {
   "cell_type": "code",
   "execution_count": null,
   "metadata": {},
   "outputs": [],
   "source": [
    "poly_coeffs = polyfit(x_grid, y_grid, n)\n",
    "poly = np.poly1d(poly_coeffs)\n",
    "\n",
    "poly_int = np.polyint(poly)\n",
    "int_value = ..."
   ]
  },
  {
   "cell_type": "code",
   "execution_count": null,
   "metadata": {},
   "outputs": [],
   "source": []
  },
  {
   "cell_type": "code",
   "execution_count": null,
   "metadata": {},
   "outputs": [],
   "source": []
  }
 ],
 "metadata": {
  "kernelspec": {
   "display_name": "Python 3",
   "language": "python",
   "name": "python3"
  },
  "language_info": {
   "codemirror_mode": {
    "name": "ipython",
    "version": 3
   },
   "file_extension": ".py",
   "mimetype": "text/x-python",
   "name": "python",
   "nbconvert_exporter": "python",
   "pygments_lexer": "ipython3",
   "version": "3.7.0"
  }
 },
 "nbformat": 4,
 "nbformat_minor": 1
}
