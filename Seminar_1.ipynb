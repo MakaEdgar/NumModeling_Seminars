{
 "cells": [
  {
   "cell_type": "markdown",
   "metadata": {
    "slideshow": {
     "slide_type": "slide"
    }
   },
   "source": [
    "# Tutorial 1: Interpolation and Quadrature"
   ]
  },
  {
   "cell_type": "markdown",
   "metadata": {
    "collapsed": true
   },
   "source": [
    "### Problem 1\n",
    "\n",
    "Interpolate the following function:\n",
    "$$f(x) = \\frac{1}{1+25 x^2}$$\n",
    "for $x \\in [-1, 1]$ by the following methods.\n",
    "\n",
    "* (a) On an equidistant (uniform) grid for piecewise constant and piecewise linear interpolation. \n",
    "* (b) Polynomial interpolation on a uniform grid (i.e., equidistant points), with any method.\n",
    "* (c) A Chebyshev grid (i.e., when the interpolation points are the roots of Chebyshev polynomials - google for the expression of the Chebyshev roots).\n",
    "\n",
    "Calculate the interpolation error as the number of points increases (or the grid resolution $h$ decreases). How does the interpolation error depend on the grid resolution (what is the order of convergence)? Plot this dependence on a logarithmic scale and comment on the results."
   ]
  },
  {
   "cell_type": "code",
   "execution_count": null,
   "metadata": {},
   "outputs": [],
   "source": [
    "import numpy as np\n",
    "import numpy.linalg as lin\n",
    "import scipy\n",
    "import matplotlib.pyplot as plt"
   ]
  },
  {
   "cell_type": "code",
   "execution_count": null,
   "metadata": {},
   "outputs": [],
   "source": [
    "def f_true(x):\n",
    "    return 1/(1 + 25*x**2)\n",
    "\n",
    "def uniform_grid(n):\n",
    "    return np.linspace(-1, 1, n)\n",
    "\n",
    "x_dence_grid = uniform_grid(200)"
   ]
  },
  {
   "cell_type": "code",
   "execution_count": null,
   "metadata": {},
   "outputs": [],
   "source": [
    "def RMSE(f):\n",
    "    return np.sqrt(np.sum(np.array([f(x)-f_true(x) for x in x_dence_grid])**2 / len(x_dence_grid)))\n",
    "\n",
    "def plot_interpolation(f, label=\"\"):\n",
    "    y_dence_grid = [f(x) for x in x_dence_grid]\n",
    "    plt.plot(x_dence_grid, y_dence_grid, label=label)\n",
    "\n",
    "def plot_error(f, label=\"\"):\n",
    "    y_dence_grid = [f(x)-f_true(x) for x in x_dence_grid]  \n",
    "    plt.plot(x_dence_grid, y_dence_grid, label=label)"
   ]
  },
  {
   "cell_type": "code",
   "execution_count": null,
   "metadata": {},
   "outputs": [],
   "source": []
  },
  {
   "cell_type": "code",
   "execution_count": null,
   "metadata": {},
   "outputs": [],
   "source": []
  },
  {
   "cell_type": "markdown",
   "metadata": {},
   "source": [
    "# 1a. Piecewise interpolation"
   ]
  },
  {
   "cell_type": "code",
   "execution_count": null,
   "metadata": {},
   "outputs": [],
   "source": [
    "def f_pwc(x):\n",
    "    x_nearest_ind = np.abs(x_grid - x).argmin()\n",
    "    x_nearest = x_grid[x_nearest_ind]\n",
    "    return f_true(x_nearest)\n",
    "\n",
    "def f_pwlin(x):\n",
    "    x_nearest_ind = np.abs(x_grid - x).argmin()\n",
    "    x_nearest = x_grid[x_nearest_ind]\n",
    "\n",
    "    if x_nearest == x:\n",
    "        return f_true(x_nearest)\n",
    "    elif x_nearest > x:\n",
    "        x_nearest_left = x_grid[x_nearest_ind-1]\n",
    "        x_nearest_right = x_grid[x_nearest_ind]\n",
    "    else:\n",
    "        x_nearest_left = x_grid[x_nearest_ind]\n",
    "        x_nearest_right = x_grid[x_nearest_ind+1]\n",
    "        \n",
    "    weight = (x - x_nearest_left) / (x_nearest_right - x_nearest_left)   \n",
    "    return f_true(x_nearest_left) + (f_true(x_nearest_right) - f_true(x_nearest_left)) * weight"
   ]
  },
  {
   "cell_type": "code",
   "execution_count": null,
   "metadata": {},
   "outputs": [],
   "source": [
    "grid_points = 10\n",
    "x_grid = uniform_grid(grid_points)\n",
    "y_grid = [f_true(x) for x in x_grid]\n",
    "plt.scatter(x_grid, y_grid, label=f\"{grid_points} fit points\")\n",
    "\n",
    "plot_interpolation(f_true, label=\"true\")\n",
    "plot_interpolation(f_pwc, label=\"piecewise constant\")\n",
    "plot_interpolation(f_pwlin, label=\"piecewise linear\")\n",
    "\n",
    "plt.xlabel(\"$x$\")\n",
    "plt.ylabel(\"$y$\")\n",
    "plt.legend(bbox_to_anchor=(1.05, 1), loc='upper left')\n",
    "plt.title(\"Piecewise interpolation\")\n",
    "plt.show()\n",
    "\n",
    "# Errors\n",
    "plot_error(f_true, label=f\"true\")\n",
    "plot_error(f_pwc, label=f\"piecewise constant\")\n",
    "plot_error(f_pwlin, label=f\"piecewise linear\")\n",
    "\n",
    "plt.xlabel(\"$x$\")\n",
    "plt.ylabel(\"$y$\")\n",
    "plt.legend(bbox_to_anchor=(1.05, 1), loc='upper left')\n",
    "plt.title(\"Errors of piecewise interpolation\")\n",
    "plt.show()\n"
   ]
  },
  {
   "cell_type": "code",
   "execution_count": null,
   "metadata": {},
   "outputs": [],
   "source": []
  },
  {
   "cell_type": "code",
   "execution_count": null,
   "metadata": {},
   "outputs": [],
   "source": []
  },
  {
   "cell_type": "code",
   "execution_count": null,
   "metadata": {},
   "outputs": [],
   "source": []
  },
  {
   "cell_type": "markdown",
   "metadata": {},
   "source": [
    "## 1b. Polynomial interpolation on uniform grid"
   ]
  },
  {
   "cell_type": "markdown",
   "metadata": {},
   "source": [
    "### Fixed number of points"
   ]
  },
  {
   "cell_type": "code",
   "execution_count": null,
   "metadata": {},
   "outputs": [],
   "source": [
    "grid_points = 10\n",
    "x_grid = uniform_grid(grid_points)\n",
    "y_grid = [f_true(x) for x in x_grid]\n",
    "plt.scatter(x_grid, y_grid, label=f\"{grid_points} fit points\")\n",
    "\n",
    "plot_interpolation(f_true, label=\"true\")\n",
    "\n",
    "n_grid = range(2, 5)\n",
    "for n in n_grid:\n",
    "    poly_coeffs = np.polyfit(x_grid, y_grid, n)\n",
    "    poly = np.poly1d(poly_coeffs)\n",
    "    plot_interpolation(poly, label=f\"$n$={n}\")\n",
    "    \n",
    "plt.xlabel(\"$x$\")\n",
    "plt.ylabel(\"$y$\")\n",
    "plt.legend(bbox_to_anchor=(1.05, 1), loc='upper left')\n",
    "plt.title(\"Polynomial interpolation\")\n",
    "plt.show()"
   ]
  },
  {
   "cell_type": "markdown",
   "metadata": {},
   "source": [
    "#### Q: Why polynomials with N=2k and N=2k+1 are equal?"
   ]
  },
  {
   "cell_type": "code",
   "execution_count": null,
   "metadata": {},
   "outputs": [],
   "source": [
    "# np.round(np.polyfit(x_grid, y_grid, 3), 4)"
   ]
  },
  {
   "cell_type": "code",
   "execution_count": null,
   "metadata": {},
   "outputs": [],
   "source": []
  },
  {
   "cell_type": "markdown",
   "metadata": {},
   "source": [
    "### More polynomials"
   ]
  },
  {
   "cell_type": "code",
   "execution_count": null,
   "metadata": {},
   "outputs": [],
   "source": [
    "grid_points = 10\n",
    "x_grid = uniform_grid(grid_points)\n",
    "y_grid = [f_true(x) for x in x_grid]\n",
    "plt.scatter(x_grid, y_grid, label=f\"{grid_points} fit points\")\n",
    "\n",
    "plot_interpolation(f_true, label=\"true\")\n",
    "\n",
    "n_grid = range(2, 14, 2)\n",
    "\n",
    "for n in n_grid:\n",
    "    poly_coeffs = np.polyfit(x_grid, y_grid, n)\n",
    "    poly = np.poly1d(poly_coeffs)\n",
    "    plot_interpolation(poly, label=f\"$n$={n}\")\n",
    "    \n",
    "plt.xlabel(\"$x$\")\n",
    "plt.ylabel(\"$y$\")\n",
    "plt.legend(bbox_to_anchor=(1.05, 1), loc='upper left')\n",
    "plt.title(\"Polynomial interpolation\")\n",
    "plt.show()\n",
    "\n",
    "\n",
    "# Errors\n",
    "plot_error(f_true, label=f\"true\")\n",
    "for n in n_grid:\n",
    "    poly_coeffs = np.polyfit(x_grid, y_grid, n)\n",
    "    poly = np.poly1d(poly_coeffs)\n",
    "    plot_error(poly, label=f\"$n$={n}\")\n",
    "    \n",
    "plt.xlabel(\"$x$\")\n",
    "plt.ylabel(\"$y$\")\n",
    "plt.legend(bbox_to_anchor=(1.05, 1), loc='upper left')\n",
    "plt.title(\"Errors of polynomial interpolation\")\n",
    "plt.show()\n"
   ]
  },
  {
   "cell_type": "markdown",
   "metadata": {},
   "source": [
    "#### Q: Why Polyfit complains?"
   ]
  },
  {
   "cell_type": "code",
   "execution_count": null,
   "metadata": {},
   "outputs": [],
   "source": [
    "# Calculate RMSE(y_predict - y_true) as dependency on polynomial power."
   ]
  },
  {
   "cell_type": "code",
   "execution_count": null,
   "metadata": {},
   "outputs": [],
   "source": []
  },
  {
   "cell_type": "markdown",
   "metadata": {},
   "source": [
    "### Number of points == power of polynomial"
   ]
  },
  {
   "cell_type": "code",
   "execution_count": null,
   "metadata": {},
   "outputs": [],
   "source": [
    "# investigate powers: 2-7, 8-11, 12-31\n",
    "n_grid = range(2, 7, 2)\n",
    "\n",
    "\n",
    "# Ground truth\n",
    "plot_interpolation(f_true, label=\"true\")\n",
    "\n",
    "# Interpolations\n",
    "for n in n_grid:\n",
    "    x_grid = uniform_grid(n)\n",
    "    y_grid = [f_true(x) for x in x_grid]\n",
    "\n",
    "    poly_coeffs = np.polyfit(x_grid, y_grid, n)\n",
    "    poly = np.poly1d(poly_coeffs)\n",
    "    plot_interpolation(poly, label=f\"$n$={n}\")\n",
    "    \n",
    "plt.xlabel(\"$x$\")\n",
    "plt.ylabel(\"$y$\")\n",
    "plt.legend(bbox_to_anchor=(1.05, 1), loc='upper left')\n",
    "plt.title(\"Polynomial interpolation\")\n",
    "plt.show()\n",
    "\n",
    "\n",
    "# Errors\n",
    "plot_error(f_true, label=f\"true\")\n",
    "for n in n_grid:\n",
    "    x_grid = uniform_grid(n+1)\n",
    "    y_grid = [f_true(x) for x in x_grid]\n",
    "    \n",
    "    poly_coeffs = np.polyfit(x_grid, y_grid, n)\n",
    "    poly = np.poly1d(poly_coeffs)\n",
    "    plot_error(poly, label=f\"$n$={n}\")\n",
    "    \n",
    "plt.xlabel(\"$x$\")\n",
    "plt.ylabel(\"$y$\")\n",
    "plt.legend(bbox_to_anchor=(1.05, 1), loc='upper left')\n",
    "plt.title(\"Errors of polynomial interpolation\")\n",
    "plt.show()\n"
   ]
  },
  {
   "cell_type": "markdown",
   "metadata": {},
   "source": [
    "#### Q: Why there are ossillations on the ends for large $n$?"
   ]
  },
  {
   "cell_type": "code",
   "execution_count": null,
   "metadata": {},
   "outputs": [],
   "source": []
  },
  {
   "cell_type": "code",
   "execution_count": null,
   "metadata": {},
   "outputs": [],
   "source": []
  },
  {
   "cell_type": "markdown",
   "metadata": {},
   "source": [
    "## 1c. Polynomial interpolation on Chebyshev grid"
   ]
  },
  {
   "cell_type": "code",
   "execution_count": null,
   "metadata": {},
   "outputs": [],
   "source": [
    "def chebyshev_grid(n):\n",
    "    k = np.arange(1, n+1)\n",
    "    return np.cos((2*k-1)/(2*n) * np.pi)"
   ]
  },
  {
   "cell_type": "code",
   "execution_count": null,
   "metadata": {},
   "outputs": [],
   "source": [
    "for n in range(1, 20):\n",
    "    plt.scatter(chebyshev_grid(n), [n for _ in range(n)], label=f\"$n$={n}\")\n",
    "    \n",
    "plt.xlabel(\"$x$\")\n",
    "plt.ylabel(\"$n$\")\n",
    "plt.legend(bbox_to_anchor=(1.05, 1), loc='upper left')\n",
    "plt.title(\"Chebyshev grid\")\n",
    "plt.show()"
   ]
  },
  {
   "cell_type": "markdown",
   "metadata": {},
   "source": [
    "#### See on wikipedia https://en.wikipedia.org/wiki/Chebyshev_nodes"
   ]
  },
  {
   "cell_type": "markdown",
   "metadata": {},
   "source": [
    "### Lets plot interpolation"
   ]
  },
  {
   "cell_type": "code",
   "execution_count": null,
   "metadata": {},
   "outputs": [],
   "source": [
    "# investigate powers: 2-7, 8-11, 12-31\n",
    "n_grid = range(2, 7, 2)\n",
    "\n",
    "\n",
    "# Ground truth\n",
    "plot_interpolation(f_true, label=\"true\")\n",
    "\n",
    "# Interpolations\n",
    "for n in n_grid:\n",
    "    x_grid = chebyshev_grid(n)\n",
    "    y_grid = [f_true(x) for x in x_grid]\n",
    "\n",
    "    poly_coeffs = np.polyfit(x_grid, y_grid, n)\n",
    "    poly = np.poly1d(poly_coeffs)\n",
    "    plot_interpolation(poly, label=f\"$n$={n}\")\n",
    "    \n",
    "plt.xlabel(\"$x$\")\n",
    "plt.ylabel(\"$y$\")\n",
    "plt.legend(bbox_to_anchor=(1.05, 1), loc='upper left')\n",
    "plt.title(\"Polynomial interpolation on Chebyshev grid\")\n",
    "plt.show()\n",
    "\n",
    "\n",
    "# Errors\n",
    "plot_error(f_true, label=f\"true\")\n",
    "for n in n_grid:\n",
    "    x_grid = chebyshev_grid(n+1)\n",
    "    y_grid = [f_true(x) for x in x_grid]\n",
    "    \n",
    "    poly_coeffs = np.polyfit(x_grid, y_grid, n)\n",
    "    poly = np.poly1d(poly_coeffs)\n",
    "    plot_error(poly, label=f\"$n$={n}\")\n",
    "\n",
    "plt.xlabel(\"$x$\")\n",
    "plt.ylabel(\"$y$\")\n",
    "plt.legend(bbox_to_anchor=(1.05, 1), loc='upper left')\n",
    "plt.title(\"Errors of polynomial interpolation on Chebyshev grid\")\n",
    "plt.show()\n"
   ]
  },
  {
   "cell_type": "code",
   "execution_count": null,
   "metadata": {
    "scrolled": true
   },
   "outputs": [],
   "source": [
    "# play with \n",
    "n_grid = range(2, 15)   # ,2) \n",
    "\n",
    "chebyshev_rmse = []\n",
    "for n in n_grid:\n",
    "    x_grid = chebyshev_grid(n+1)\n",
    "    y_grid = [f_true(x) for x in x_grid]\n",
    "    \n",
    "    poly_coeffs = np.polyfit(x_grid, y_grid, n)\n",
    "    poly = np.poly1d(poly_coeffs)\n",
    "    \n",
    "    chebyshev_rmse.append(RMSE(poly))\n",
    "\n",
    "    \n",
    "uniform_rmse = []\n",
    "for n in n_grid:\n",
    "    x_grid = uniform_grid(n+1)\n",
    "    y_grid = [f_true(x) for x in x_grid]\n",
    "    \n",
    "    poly_coeffs = np.polyfit(x_grid, y_grid, n)\n",
    "    poly = np.poly1d(poly_coeffs)\n",
    "    \n",
    "    uniform_rmse.append(RMSE(poly))\n",
    "\n",
    "\n",
    "\n",
    "\n",
    "plt.plot(n_grid, chebyshev_rmse, label=\"Chebyshev grid\")\n",
    "plt.plot(n_grid, uniform_rmse, label=\"Uniform grid\")\n",
    "plt.yscale(\"log\")\n",
    "\n",
    "plt.xlabel(\"$n$\")\n",
    "plt.ylabel(\"$RMSE$\")\n",
    "plt.legend(bbox_to_anchor=(1.05, 1), loc='upper left')\n",
    "plt.title(\"Interpolation error with number of points increasing\")\n",
    "plt.show()\n"
   ]
  },
  {
   "cell_type": "markdown",
   "metadata": {},
   "source": [
    "#### Q: What happens when $n$ become very large (try 50, 100, 500)?  "
   ]
  },
  {
   "cell_type": "code",
   "execution_count": null,
   "metadata": {},
   "outputs": [],
   "source": []
  },
  {
   "cell_type": "markdown",
   "metadata": {},
   "source": [
    "### Problem 2\n",
    "\n",
    "The integral of $f(x)$ from the previous problem is $(2 \\arctan(5))/5$. Using the interpolants from Problem 1(a), compute the integral of $f(x)$ over the interval $[-1,1]$ for different $h$ and compare with the exact answer"
   ]
  },
  {
   "cell_type": "code",
   "execution_count": null,
   "metadata": {},
   "outputs": [],
   "source": [
    "# Improvisation is here"
   ]
  },
  {
   "cell_type": "code",
   "execution_count": null,
   "metadata": {},
   "outputs": [],
   "source": []
  }
 ],
 "metadata": {
  "kernelspec": {
   "display_name": "Python 3",
   "language": "python",
   "name": "python3"
  },
  "language_info": {
   "codemirror_mode": {
    "name": "ipython",
    "version": 3
   },
   "file_extension": ".py",
   "mimetype": "text/x-python",
   "name": "python",
   "nbconvert_exporter": "python",
   "pygments_lexer": "ipython3",
   "version": "3.7.0"
  }
 },
 "nbformat": 4,
 "nbformat_minor": 1
}
