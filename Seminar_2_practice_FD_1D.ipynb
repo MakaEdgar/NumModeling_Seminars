{
 "cells": [
  {
   "cell_type": "markdown",
   "metadata": {},
   "source": [
    "# Practice Finite Difference 1D"
   ]
  },
  {
   "cell_type": "markdown",
   "metadata": {},
   "source": [
    "* A general diffusion equation is\n",
    "$$\n",
    "{\\rm div}(k\\, \\nabla u) = f\n",
    "$$\n",
    "* Here $k$ is typically a scalar **diffusion coefficient** that can depends on coordinates"
   ]
  },
  {
   "cell_type": "markdown",
   "metadata": {},
   "source": [
    "* Suppose we have 1D stationary diffusion problem:\n",
    "$$\n",
    "\\begin{align*}\n",
    "(k(x)\\, u'(x))' &= 0 \\quad \\text{for }x \\in [0, 1] \\\\\n",
    "k(x) &= 1 + x \\\\\n",
    "u_0 &= \n",
    " \\begin{cases}\n",
    "   0, \\quad x \\in [0, 1) \\\\\n",
    "   1, \\quad x = 1\n",
    " \\end{cases} \\\\\n",
    "\\end{align*}\n",
    "$$\n",
    "\n",
    "\n",
    "* There is an exact solution (proof):\n",
    "$$\n",
    "u(x) = \\frac{\\log{(1+x)}}{\\log 2} \n",
    "$$"
   ]
  },
  {
   "cell_type": "markdown",
   "metadata": {},
   "source": [
    "### Let's do it numerically"
   ]
  },
  {
   "cell_type": "markdown",
   "metadata": {},
   "source": [
    "* We need to discretize the operators \n",
    "\n",
    "* Recall that for $g=g(x)$,\n",
    "$$\n",
    "\\begin{align*}\n",
    "\\left(\\frac{d}{dx}\\right)_{+}g &= \\frac{g(x+h)-g(x)}{h} + O(h)\\\\\n",
    "\\left(\\frac{d}{dx}\\right)_{-}g &= \\frac{g(x)-g(x-h)}{h} + O(h)\\\\\n",
    "\\end{align*}\n",
    "$$\n",
    "\n",
    "* But we can increase accuracy by combining them:\n",
    "$$\n",
    "\\frac{d^2 g}{dx^2} = \\left(\\frac{d}{dx}\\right)_{-}\\left(\\frac{d}{dx}\\right)_{+}g =  \\frac{g(x-h)-2g(x)+g(x+h)}{h^2} + O(h^2)\n",
    "$$\n",
    "\n",
    "* So we discretize the equation this way:\n",
    "$$\n",
    "D_{m} K D \\ \\vec{u(ih)} = \\vec{u_0(ih)} \\quad \\text{for } i \\in [0, n]\n",
    "$$\n",
    "where \n",
    "* $h = \\frac{1}{n}$ is a width of $n$ uniformly distributed intervals\n",
    "* $D$    is a forward-difference operator\n",
    "* $D_m$   is a backward-difference operator\n",
    "* $K$    is a diffusion coefficient operator\n"
   ]
  },
  {
   "cell_type": "code",
   "execution_count": null,
   "metadata": {},
   "outputs": [],
   "source": [
    "import numpy as np\n",
    "import scipy as sp\n",
    "import scipy.sparse\n",
    "from scipy.sparse import csr_matrix\n",
    "from scipy.sparse.linalg import spsolve\n",
    "import matplotlib.pyplot as plt"
   ]
  },
  {
   "cell_type": "code",
   "execution_count": null,
   "metadata": {},
   "outputs": [],
   "source": [
    "def k(x):\n",
    "    return (1+x)"
   ]
  },
  {
   "cell_type": "code",
   "execution_count": null,
   "metadata": {},
   "outputs": [],
   "source": [
    "n=4"
   ]
  },
  {
   "cell_type": "markdown",
   "metadata": {},
   "source": [
    "### Derivative discretized operators"
   ]
  },
  {
   "cell_type": "code",
   "execution_count": null,
   "metadata": {},
   "outputs": [],
   "source": [
    "def D(n):\n",
    "    h = 1/n\n",
    "    T = csr_matrix((np.ones(n),(np.arange(0,n),np.arange(1,n+1))))\n",
    "    return (T-sp.sparse.csr_matrix((np.ones(n),\n",
    "                                    (np.arange(0,n),np.arange(0,n))),\n",
    "                        shape=(n,n+1)))/h\n",
    "def Dm(n):\n",
    "    h = 1/n\n",
    "    T = csr_matrix((np.ones(n-1),(np.arange(0,n-1),np.arange(1,n))))\n",
    "    return (T-sp.sparse.csr_matrix((np.ones(n-1),\n",
    "                                    (np.arange(0,n-1),np.arange(0,n-1))),\n",
    "                        shape=(n-1,n)))/h"
   ]
  },
  {
   "cell_type": "code",
   "execution_count": null,
   "metadata": {},
   "outputs": [],
   "source": [
    "D(n).toarray() / n"
   ]
  },
  {
   "cell_type": "code",
   "execution_count": null,
   "metadata": {},
   "outputs": [],
   "source": [
    "Dm(n).toarray() / n"
   ]
  },
  {
   "cell_type": "code",
   "execution_count": null,
   "metadata": {},
   "outputs": [],
   "source": [
    "Dm(n)*D(n).toarray()/ n**2"
   ]
  },
  {
   "cell_type": "markdown",
   "metadata": {},
   "source": [
    "### Diffusion coefficient operator"
   ]
  },
  {
   "cell_type": "code",
   "execution_count": null,
   "metadata": {},
   "outputs": [],
   "source": [
    "def K(n):\n",
    "    h = 1/n\n",
    "    # Mesh of inner points\n",
    "    mesh = np.linspace(h/2,1-h/2,n)\n",
    "    return csr_matrix(([k(x) for x in mesh],\n",
    "                      (np.arange(0,n),np.arange(0,n))))"
   ]
  },
  {
   "cell_type": "code",
   "execution_count": null,
   "metadata": {},
   "outputs": [],
   "source": [
    "K(n).toarray()"
   ]
  },
  {
   "cell_type": "markdown",
   "metadata": {},
   "source": [
    "### Discretized equation matrix"
   ]
  },
  {
   "cell_type": "code",
   "execution_count": null,
   "metadata": {},
   "outputs": [],
   "source": [
    "def A(n):\n",
    "    return sp.sparse.vstack([\n",
    "        csr_matrix(([1],([0],[0])),shape=(1,n+1)),\n",
    "        Dm(n)*(K(n)*D(n)),\n",
    "        csr_matrix(([1],([0],[n])),shape=(1,n+1))])"
   ]
  },
  {
   "cell_type": "code",
   "execution_count": null,
   "metadata": {},
   "outputs": [],
   "source": [
    "A(n).toarray()"
   ]
  },
  {
   "cell_type": "markdown",
   "metadata": {},
   "source": [
    "### Boundary conditions"
   ]
  },
  {
   "cell_type": "code",
   "execution_count": null,
   "metadata": {},
   "outputs": [],
   "source": [
    "def b(n):\n",
    "    v = np.zeros(n+1)\n",
    "    v[0]=0 # boundary conditions\n",
    "    v[n]=1\n",
    "    return v"
   ]
  },
  {
   "cell_type": "code",
   "execution_count": null,
   "metadata": {},
   "outputs": [],
   "source": [
    "b(n)"
   ]
  },
  {
   "cell_type": "markdown",
   "metadata": {},
   "source": [
    "## Let's model"
   ]
  },
  {
   "cell_type": "code",
   "execution_count": null,
   "metadata": {},
   "outputs": [],
   "source": [
    "n=20\n",
    "x = spsolve(A(n),b(n))\n",
    "x"
   ]
  },
  {
   "cell_type": "code",
   "execution_count": null,
   "metadata": {},
   "outputs": [],
   "source": [
    "pts = np.linspace(0,1,n+1);\n",
    "plt.plot(pts,[np.log(1+x)/np.log(2) for x in pts], label=\"true\")\n",
    "plt.plot(pts,x,'o', label=\"modeled\")\n",
    "\n",
    "plt.xlabel(\"$x$\")\n",
    "plt.ylabel(\"$u(x)$\")\n",
    "plt.title(\"Modeling of $(k(x)u')'=0$\")\n",
    "plt.legend(bbox_to_anchor=(1.05, 1), loc='upper left')\n",
    "plt.show()"
   ]
  },
  {
   "cell_type": "code",
   "execution_count": null,
   "metadata": {
    "scrolled": true
   },
   "outputs": [],
   "source": [
    "plt.plot(pts,x - [np.log(1+x)/np.log(2) for x in pts])\n",
    "\n",
    "plt.xlabel(\"$x$\")\n",
    "plt.ylabel(\"Error\")\n",
    "plt.title(\"Error of modeling\")\n",
    "plt.show()"
   ]
  },
  {
   "cell_type": "code",
   "execution_count": null,
   "metadata": {},
   "outputs": [],
   "source": []
  },
  {
   "cell_type": "code",
   "execution_count": null,
   "metadata": {},
   "outputs": [],
   "source": []
  }
 ],
 "metadata": {
  "kernelspec": {
   "display_name": "Python 3",
   "language": "python",
   "name": "python3"
  },
  "language_info": {
   "codemirror_mode": {
    "name": "ipython",
    "version": 3
   },
   "file_extension": ".py",
   "mimetype": "text/x-python",
   "name": "python",
   "nbconvert_exporter": "python",
   "pygments_lexer": "ipython3",
   "version": "3.7.0"
  }
 },
 "nbformat": 4,
 "nbformat_minor": 2
}
